{
 "cells": [
  {
   "cell_type": "markdown",
   "metadata": {
    "pycharm": {
     "name": "#%% md\n"
    }
   },
   "source": [
    "Copyright **`(c)`** 2022 Giovanni Squillero `<squillero@polito.it>`  \n",
    "[`https://github.com/squillero/computational-intelligence`](https://github.com/squillero/computational-intelligence)  \n",
    "Free for personal or classroom use; see [`LICENSE.md`](https://github.com/squillero/computational-intelligence/blob/master/LICENSE.md) for details.  \n"
   ]
  },
  {
   "cell_type": "markdown",
   "metadata": {
    "pycharm": {
     "name": "#%%\n"
    }
   },
   "source": [
    "# Lab 3: ES\n",
    "\n",
    "## Task\n",
    "\n",
    "Write agents able to play [*Nim*](https://en.wikipedia.org/wiki/Nim), with an arbitrary number of rows and an upper bound $k$ on the number of objects that can be removed in a turn (a.k.a., *subtraction game*).\n",
    "\n",
    "The goal of the game is to **avoid** taking the last object.\n",
    "\n",
    "* Task2.1: An agent using fixed rules based on *nim-sum* (i.e., an *expert system*)\n",
    "* Task2.2: An agent using evolved rules using ES\n",
    "\n",
    "## Instructions\n",
    "\n",
    "* Create the directory `lab2` inside your personal course repository for the course \n",
    "* Put a `README.md` and your solution (all the files, code and auxiliary data if needed)\n",
    "\n",
    "## Notes\n",
    "\n",
    "* Working in group is not only allowed, but recommended (see: [Ubuntu](https://en.wikipedia.org/wiki/Ubuntu_philosophy) and [Cooperative Learning](https://files.eric.ed.gov/fulltext/EJ1096789.pdf)). Collaborations must be explicitly declared in the `README.md`.\n",
    "* [Yanking](https://www.emacswiki.org/emacs/KillingAndYanking) from the internet is allowed, but sources must be explicitly declared in the `README.md`.\n",
    "\n"
   ]
  },
  {
   "cell_type": "code",
   "execution_count": 721,
   "metadata": {},
   "outputs": [],
   "source": [
    "import logging\n",
    "from pprint import pprint, pformat\n",
    "from collections import namedtuple\n",
    "import random\n",
    "from copy import deepcopy\n",
    "from dataclasses import dataclass, field\n",
    "\n"
   ]
  },
  {
   "cell_type": "markdown",
   "metadata": {},
   "source": [
    "## The *Nim* and *Nimply* classes"
   ]
  },
  {
   "cell_type": "code",
   "execution_count": 722,
   "metadata": {},
   "outputs": [],
   "source": [
    "Nimply = namedtuple(\"Nimply\", \"row, num_objects\")\n"
   ]
  },
  {
   "cell_type": "code",
   "execution_count": 723,
   "metadata": {},
   "outputs": [],
   "source": [
    "class Nim:\n",
    "    def __init__(self, num_rows: int, k: int = None) -> None:\n",
    "        self._rows = [i * 2 + 1 for i in range(num_rows)]\n",
    "        self._k = k\n",
    "\n",
    "    def __bool__(self):\n",
    "        return sum(self._rows) > 0\n",
    "\n",
    "    def __str__(self):\n",
    "        return \"<\" + \" \".join(str(_) for _ in self._rows) + \">\"\n",
    "\n",
    "    @property\n",
    "    def rows(self) -> tuple:\n",
    "        return tuple(self._rows)\n",
    "\n",
    "    def nimming(self, ply: Nimply) -> None:\n",
    "        row, num_objects = ply\n",
    "        assert self._rows[row] >= num_objects\n",
    "        assert self._k is None or num_objects <= self._k\n",
    "        self._rows[row] -= num_objects\n"
   ]
  },
  {
   "cell_type": "markdown",
   "metadata": {},
   "source": [
    "## Sample (and silly) startegies "
   ]
  },
  {
   "cell_type": "code",
   "execution_count": 724,
   "metadata": {},
   "outputs": [],
   "source": [
    "def pure_random(state: Nim) -> Nimply:\n",
    "    \"\"\"A completely random move\"\"\"\n",
    "    row = random.choice([r for r, c in enumerate(state.rows) if c > 0])\n",
    "    num_objects = random.randint(1, state.rows[row])\n",
    "    return Nimply(row, num_objects)\n"
   ]
  },
  {
   "cell_type": "code",
   "execution_count": 725,
   "metadata": {},
   "outputs": [],
   "source": [
    "def gabriele(state: Nim) -> Nimply:\n",
    "    \"\"\"Pick always the maximum possible number of the lowest row\"\"\"\n",
    "    possible_moves = [(r, o) for r, c in enumerate(state.rows) for o in range(1, c + 1)]\n",
    "    return Nimply(*max(possible_moves, key=lambda m: (-m[0], m[1])))\n"
   ]
  },
  {
   "cell_type": "code",
   "execution_count": 726,
   "metadata": {},
   "outputs": [],
   "source": [
    "import numpy as np\n",
    "\n",
    "\n",
    "def nim_sum(state: Nim) -> int:\n",
    "    tmp = np.array([tuple(int(x) for x in f\"{c:032b}\") for c in state.rows])\n",
    "    xor = tmp.sum(axis=0) % 2\n",
    "    return int(\"\".join(str(_) for _ in xor), base=2)\n",
    "\n",
    "\n",
    "def analyze(raw: Nim) -> dict:\n",
    "    cooked = {\"possible_moves\": {}}\n",
    "    for ply in (Nimply(r, o) for r, c in enumerate(raw.rows) for o in range(1, c + 1)):\n",
    "        tmp = deepcopy(raw)\n",
    "        tmp.nimming(ply)\n",
    "        cooked[\"possible_moves\"][ply] = nim_sum(tmp)\n",
    "    return cooked\n",
    "\n",
    "\n",
    "def optimal(state: Nim) -> Nimply:\n",
    "    analysis = analyze(state)\n",
    "    logging.debug(f\"analysis:\\n{pformat(analysis)}\")\n",
    "    spicy_moves = [ply for ply, ns in analysis[\"possible_moves\"].items() if ns != 0]\n",
    "    if not spicy_moves:\n",
    "        spicy_moves = list(analysis[\"possible_moves\"].keys())\n",
    "    ply = random.choice(spicy_moves)\n",
    "    return ply\n",
    "\n",
    "\n"
   ]
  },
  {
   "cell_type": "code",
   "execution_count": 727,
   "metadata": {},
   "outputs": [],
   "source": [
    "import random\n",
    "from typing import Tuple\n",
    "import copy\n",
    "\n",
    "NUM_SETS = 5\n",
    "TOURNAMENT_SIZE = 3\n",
    "OFFSPRING_SIZE = 10\n",
    "MUTATION_PROBABILITY = 0.5\n",
    "POPULATION_SIZE = 20\n",
    "\n",
    "\n",
    "@dataclass\n",
    "class Individual:\n",
    "    fitness: int\n",
    "    genotype: Nim\n",
    "    mutation_info: Tuple[int, int] = field(default_factory=lambda: (0, 0))\n",
    "\n",
    "\n",
    "def fitness(state: Nim) -> int:\n",
    "    return nim_sum(state)\n",
    "\n",
    "\n",
    "def adaptive(state: Nim) -> Nimply:\n",
    "    population = [\n",
    "        Individual(fitness=0, genotype=copy.deepcopy(state))\n",
    "        for _ in range(POPULATION_SIZE)\n",
    "    ]\n",
    "\n",
    "    def select_parent(population):\n",
    "        pool = random.sample(population, TOURNAMENT_SIZE)\n",
    "        champion = max(pool, key=lambda ind: ind.fitness)\n",
    "        return champion\n",
    "\n",
    "    def mutate(ind: Individual, nim_state: Nim) -> Individual:\n",
    "        genotype = list(ind.genotype.rows)\n",
    "\n",
    "        modified_set = 0\n",
    "        elements_removed = 0\n",
    "\n",
    "        for pos in range(NUM_SETS):\n",
    "            elements_remaining = nim_state.rows[pos]\n",
    "            num_to_remove = random.randint(0, elements_remaining)\n",
    "\n",
    "            genotype[pos] -= num_to_remove\n",
    "\n",
    "            if num_to_remove > 0:\n",
    "                modified_set = pos\n",
    "                elements_removed = num_to_remove\n",
    "\n",
    "        new_state_nim = Nim(num_rows=len(genotype))\n",
    "        for i, num in enumerate(genotype):\n",
    "            for _ in range(num):\n",
    "                new_state_nim.nimming(Nimply(i, 1))\n",
    "\n",
    "        new_fitness = fitness(new_state_nim)\n",
    "        mutated_individual = Individual(\n",
    "            fitness=new_fitness,\n",
    "            genotype=new_state_nim,\n",
    "            mutation_info=(modified_set, elements_removed),\n",
    "        )\n",
    "\n",
    "        return mutated_individual\n",
    "\n",
    "    def one_cut_xover(p1: Individual, p2: Individual) -> Individual:\n",
    "        cut_point = random.randint(0, NUM_SETS - 1)\n",
    "\n",
    "        rows_p1 = p1.genotype.rows\n",
    "        rows_p2 = p2.genotype.rows\n",
    "\n",
    "        offspring_rows = rows_p1[:cut_point] + rows_p2[cut_point:]\n",
    "\n",
    "        offspring_nim = Nim(num_rows=len(offspring_rows))\n",
    "        for i, count in enumerate(offspring_rows):\n",
    "            for _ in range(count):\n",
    "                offspring_nim.nimming(Nimply(i, 1))\n",
    "\n",
    "        return Individual(fitness=0, genotype=offspring_nim)\n",
    "\n",
    "    for _ in range(10):\n",
    "        offspring = []\n",
    "        for _ in range(OFFSPRING_SIZE):\n",
    "            if random.random() < MUTATION_PROBABILITY:\n",
    "                parent = select_parent(population)\n",
    "                child = mutate(parent, state)\n",
    "            else:\n",
    "                parent1 = select_parent(population)\n",
    "                parent2 = select_parent(population)\n",
    "                child = one_cut_xover(parent1, parent2)\n",
    "            offspring.append(child)\n",
    "\n",
    "        for individual in offspring:\n",
    "            individual.fitness = fitness(individual.genotype)\n",
    "\n",
    "        population.extend(offspring)\n",
    "        population.sort(key=lambda ind: ind.fitness, reverse=True)\n",
    "        population = population[:POPULATION_SIZE]\n",
    "\n",
    "        best_mutated_individual = max(offspring, key=lambda ind: ind.fitness)\n",
    "\n",
    "    result_nimply = Nimply(\n",
    "        row=best_mutated_individual.mutation_info[0],\n",
    "        num_objects=best_mutated_individual.mutation_info[1],\n",
    "    )\n",
    "    return result_nimply"
   ]
  },
  {
   "cell_type": "markdown",
   "metadata": {},
   "source": [
    "## Oversimplified match"
   ]
  },
  {
   "cell_type": "code",
   "execution_count": 729,
   "metadata": {},
   "outputs": [
    {
     "name": "stderr",
     "output_type": "stream",
     "text": [
      "Simulating Games: 100%|██████████| 1000/1000 [01:42<00:00,  9.80it/s]"
     ]
    },
    {
     "name": "stdout",
     "output_type": "stream",
     "text": [
      "Number games won player_0: 660, Percentage: 66%\n",
      "Number games won player_1: 340, Percentage: 34%\n"
     ]
    },
    {
     "name": "stderr",
     "output_type": "stream",
     "text": [
      "\n"
     ]
    }
   ],
   "source": [
    "from tqdm import tqdm\n",
    "\n",
    "num_iteration = 1000\n",
    "count_0 = 0\n",
    "count_1 = 0\n",
    "\n",
    "for _ in tqdm(range(num_iteration), desc=\"Simulating Games\"):\n",
    "    # logging.getLogger().setLevel(logging.INFO)  # Considera di rimuovere la modifica del livello di log se non è strettamente necessario\n",
    "\n",
    "    strategy = (adaptive, optimal)\n",
    "    nim = Nim(5)\n",
    "    player = 0\n",
    "    while nim:\n",
    "        ply = strategy[player](nim)\n",
    "        nim.nimming(ply)\n",
    "        player = 1 - player\n",
    "    if player == 0:\n",
    "        count_0 += 1\n",
    "    else:\n",
    "        count_1 += 1\n",
    "    # logging.info(f\"status: Player {player} won!\")\n",
    "\n",
    "print(f\"Number games won player_0: {count_0}, Percentage: {round(count_0 / num_iteration * 100)}%\")\n",
    "print(f\"Number games won player_1: {count_1}, Percentage: {round(count_1 / num_iteration * 100)}%\")\n"
   ]
  },
  {
   "cell_type": "code",
   "execution_count": null,
   "metadata": {},
   "outputs": [],
   "source": []
  },
  {
   "cell_type": "code",
   "execution_count": null,
   "metadata": {},
   "outputs": [],
   "source": []
  },
  {
   "cell_type": "code",
   "execution_count": null,
   "metadata": {},
   "outputs": [],
   "source": []
  }
 ],
 "metadata": {
  "kernelspec": {
   "display_name": "Python 3.10.7 ('ci22-dPIXJ0_o-py3.10')",
   "language": "python",
   "name": "python3"
  },
  "language_info": {
   "codemirror_mode": {
    "name": "ipython",
    "version": 3
   },
   "file_extension": ".py",
   "mimetype": "text/x-python",
   "name": "python",
   "nbconvert_exporter": "python",
   "pygments_lexer": "ipython3",
   "version": "3.12.0"
  },
  "vscode": {
   "interpreter": {
    "hash": "10197e8e2f2aa67e2c349105091c77f4cd384fce4877865f002d9ec653f96bc0"
   }
  }
 },
 "nbformat": 4,
 "nbformat_minor": 2
}
