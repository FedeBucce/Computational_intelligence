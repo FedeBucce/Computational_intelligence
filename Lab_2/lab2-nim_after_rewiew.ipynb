{
 "cells": [
  {
   "cell_type": "markdown",
   "metadata": {
    "pycharm": {
     "name": "#%% md\n"
    }
   },
   "source": [
    "Copyright **`(c)`** 2022 Giovanni Squillero `<squillero@polito.it>`  \n",
    "[`https://github.com/squillero/computational-intelligence`](https://github.com/squillero/computational-intelligence)  \n",
    "Free for personal or classroom use; see [`LICENSE.md`](https://github.com/squillero/computational-intelligence/blob/master/LICENSE.md) for details.  \n"
   ]
  },
  {
   "cell_type": "code",
   "execution_count": 50,
   "metadata": {},
   "outputs": [],
   "source": [
    "import logging\n",
    "from pprint import pprint, pformat\n",
    "from collections import namedtuple\n",
    "from random import random, choices, choice, randint\n",
    "from copy import deepcopy\n",
    "from dataclasses import dataclass, field\n",
    "from numpy.random import normal"
   ]
  },
  {
   "cell_type": "markdown",
   "metadata": {},
   "source": [
    "## The *Nim* and *Nimply* classes"
   ]
  },
  {
   "cell_type": "code",
   "execution_count": 51,
   "metadata": {},
   "outputs": [],
   "source": [
    "Nimply = namedtuple(\"Nimply\", \"row, num_objects\")\n"
   ]
  },
  {
   "cell_type": "code",
   "execution_count": 52,
   "metadata": {},
   "outputs": [],
   "source": [
    "class Nim:\n",
    "    def __init__(self, num_rows: int, k: int = None) -> None:\n",
    "        self._rows = [i * 2 + 1 for i in range(num_rows)]\n",
    "        if k is None:\n",
    "            k = (num_rows - 1) * 2 + 1\n",
    "        self._k = k\n",
    "\n",
    "    def __bool__(self):\n",
    "        return sum(self._rows) > 0\n",
    "\n",
    "    def __str__(self):\n",
    "        return \"<\" + \" \".join(str(_) for _ in self._rows) + \">\"\n",
    "\n",
    "    @property\n",
    "    def rows(self) -> tuple:\n",
    "        return tuple(self._rows)\n",
    "    \n",
    "    @property\n",
    "    def k(self) -> int:\n",
    "        return self._k\n",
    "    \n",
    "    def nimming(self, ply: Nimply) -> None:\n",
    "        row, num_objects = ply\n",
    "        assert self._rows[row] >= num_objects\n",
    "        assert self._k is None or num_objects <= self._k\n",
    "        self._rows[row] -= num_objects\n",
    "    \n",
    "    def copy(self) -> 'Nim':\n",
    "        new_nim = Nim(num_rows=len(self._rows), k=self._k)\n",
    "        new_nim._rows = list(self._rows)\n",
    "        return new_nim\n"
   ]
  },
  {
   "cell_type": "markdown",
   "metadata": {},
   "source": [
    "## Sample (and silly) startegies "
   ]
  },
  {
   "cell_type": "code",
   "execution_count": 53,
   "metadata": {},
   "outputs": [],
   "source": [
    "def pure_random(state: Nim) -> Nimply:\n",
    "    \"\"\"A completely random move\"\"\"\n",
    "    row = choice([r for r, c in enumerate(state.rows) if c > 0])\n",
    "    num_objects = randint(1, state.rows[row])\n",
    "    return Nimply(row, num_objects)\n"
   ]
  },
  {
   "cell_type": "code",
   "execution_count": 54,
   "metadata": {},
   "outputs": [],
   "source": [
    "def gabriele(state: Nim) -> Nimply:\n",
    "    \"\"\"Pick always the maximum possible number of the lowest row\"\"\"\n",
    "    possible_moves = [(r, o) for r, c in enumerate(state.rows) for o in range(1, c + 1)]\n",
    "    return Nimply(*max(possible_moves, key=lambda m: (-m[0], m[1])))\n"
   ]
  },
  {
   "cell_type": "code",
   "execution_count": 55,
   "metadata": {},
   "outputs": [],
   "source": [
    "import numpy as np\n",
    "\n",
    "\n",
    "def nim_sum(state: Nim) -> int:\n",
    "    tmp = np.array([tuple(int(x) for x in f\"{c:032b}\") for c in state.rows])\n",
    "    xor = tmp.sum(axis=0) % 2\n",
    "    return int(\"\".join(str(_) for _ in xor), base=2)\n",
    "\n",
    "\n",
    "def analyze(raw: Nim) -> dict:\n",
    "    cooked = {\"possible_moves\": {}}\n",
    "    for ply in (Nimply(r, o) for r, c in enumerate(raw.rows) for o in range(1, c + 1)):\n",
    "        tmp = deepcopy(raw)\n",
    "        tmp.nimming(ply)\n",
    "        cooked[\"possible_moves\"][ply] = nim_sum(tmp)\n",
    "    return cooked\n",
    "\n",
    "\n",
    "def optimal(state: Nim) -> Nimply:\n",
    "    analysis = analyze(state)\n",
    "    logging.debug(f\"analysis:\\n{pformat(analysis)}\")\n",
    "    spicy_moves = [ply for ply, ns in analysis[\"possible_moves\"].items() if ns != 0]\n",
    "    if not spicy_moves:\n",
    "        spicy_moves = list(analysis[\"possible_moves\"].keys())\n",
    "    ply = choice(spicy_moves)\n",
    "    return ply\n",
    "\n",
    "\n"
   ]
  },
  {
   "cell_type": "code",
   "execution_count": 56,
   "metadata": {},
   "outputs": [],
   "source": [
    "def even_odd(state: Nim) -> Nimply:\n",
    "    possible_moves = [(r, o) for r, c in enumerate(state.rows) for o in range(1, c + 1)]\n",
    "    row=max(possible_moves, key=lambda m: (m[1]))\n",
    "    if row[0] % 2 == 0:\n",
    "        n_obj = min(state.k, state.rows[row[0]] // 2)\n",
    "    else:\n",
    "        n_obj = max(1, min(state.k, state.rows[row[0]]))\n",
    "    return Nimply(row[0], n_obj)\n",
    "\n",
    "def one_from_min(state:Nim,weights=None)->Nimply:\n",
    "    possible_moves = [(r, o) for r, c in enumerate(state.rows) for o in range(1, c + 1)]\n",
    "    row=min(possible_moves, key=lambda m: (m[1]))\n",
    "    return Nimply(row[0],1)\n",
    "\n",
    "def one_from_max(state:Nim)->Nimply:\n",
    "    possible_moves = [(r, o) for r, c in enumerate(state.rows) for o in range(1, c + 1)]\n",
    "    row=max(possible_moves, key=lambda m: (m[1]))\n",
    "    return Nimply(row[0],1)\n"
   ]
  },
  {
   "cell_type": "code",
   "execution_count": 57,
   "metadata": {},
   "outputs": [],
   "source": [
    "def match(strategy_0,strategy_1,num_sets)->bool:\n",
    "    strategy=(strategy_0, strategy_1)\n",
    "    nim = Nim(num_sets)\n",
    "    player = 0\n",
    "    while nim:\n",
    "        ply = strategy[player].get_strategy()(nim)\n",
    "        nim.nimming(ply)\n",
    "        player = 1 - player\n",
    "    return player"
   ]
  },
  {
   "cell_type": "code",
   "execution_count": 58,
   "metadata": {},
   "outputs": [],
   "source": [
    "class Individual:\n",
    "    def __init__(self, weights: tuple[float], strategies, fitness):\n",
    "        self.fitness = fitness\n",
    "        self.weights = weights\n",
    "        self.strategies = strategies\n",
    "\n",
    "    def get_strategy(self):\n",
    "        min_weight = min(self.weights)\n",
    "        if min_weight <= 0:\n",
    "            shifted_weights = [w - min_weight + 1.0 for w in self.weights]  \n",
    "        else:\n",
    "            shifted_weights = self.weights  \n",
    "        return choices(self.strategies, weights=shifted_weights, k=1)[0]"
   ]
  },
  {
   "cell_type": "code",
   "execution_count": 59,
   "metadata": {},
   "outputs": [],
   "source": [
    "strategies = [gabriele, pure_random, one_from_min, one_from_max]\n",
    "\n",
    "optimal_player = Individual(tuple([1.0]), [optimal], 1)\n",
    "\n",
    "num_sets = 5\n",
    "num_games = 100\n",
    "\n",
    "def fitness(individual: Individual) -> float:\n",
    "    wins = [match(individual, optimal_player, num_sets) for _ in range(num_games)]\n",
    "    return (num_games - sum(wins)) / num_games"
   ]
  },
  {
   "cell_type": "code",
   "execution_count": 60,
   "metadata": {},
   "outputs": [],
   "source": [
    "import copy\n",
    "\n",
    "TOURNAMENT_SIZE = 3\n",
    "\n",
    "def create_population(size):\n",
    "    pop = [Individual(tuple([random() for _ in range(len(strategies))]), strategies, random()) for _ in range(size)]\n",
    "    return pop\n",
    "\n",
    "def select_parent(pop):\n",
    "    pool=[choice(pop) for _ in range(TOURNAMENT_SIZE)]\n",
    "    champion = max(pool, key=lambda i: i.fitness)\n",
    "    return champion\n",
    "\n",
    "def random_mutation() ->Individual:\n",
    "    return Individual(tuple([random() for _ in range(len(strategies))]), strategies, random())\n",
    "\n",
    "def mutate(ind: Individual, σ) -> Individual:\n",
    "    weights = np.array(ind.weights)\n",
    "    for i in range(len(weights)):\n",
    "        weights[i] += normal(0.0, σ)\n",
    "    offspring = Individual(tuple(weights), strategies, 0)\n",
    "    return offspring"
   ]
  },
  {
   "cell_type": "markdown",
   "metadata": {},
   "source": [
    "## ( &mu;, &lambda; )-ES"
   ]
  },
  {
   "cell_type": "code",
   "execution_count": null,
   "metadata": {},
   "outputs": [],
   "source": [
    "from tqdm import tqdm\n",
    "\n",
    "POPULATION_SIZE = 70\n",
    "OFFSPRING_SIZE = 15\n",
    "GENERATIONS = 200\n",
    "MUTATION_PROBABILITY = 0.2\n",
    "\n",
    "σ = 0.075\n",
    "population = create_population(POPULATION_SIZE)\n",
    "for i in population:\n",
    "    i.fitness = fitness(i)\n",
    "\n",
    "prev_evals = map(lambda  x: x.fitness, population)\n",
    "population.sort(key=lambda i:i.fitness,reverse=True) \n",
    "initial_fitness = population[0].fitness\n",
    "stats = [0,0]\n",
    "for step in range(GENERATIONS):\n",
    "    offspring = list()\n",
    "    for counter in range(OFFSPRING_SIZE):\n",
    "        if random() > MUTATION_PROBABILITY: \n",
    "            p=select_parent(population) \n",
    "            o=mutate(p, σ)\n",
    "        else:\n",
    "            o=random_mutation()\n",
    "        offspring.append(o)\n",
    "\n",
    "    for i in offspring:\n",
    "        i.fitness = fitness(i)\n",
    "\n",
    "    population.extend(offspring)\n",
    "    population.sort(key=lambda i:i.fitness,reverse=True) \n",
    "    population = population[:POPULATION_SIZE]\n",
    "\n",
    "    print(f\"fitness: {population[0].fitness} weights: {population[0].weights} sigma: {σ}\")\n",
    "\n",
    "    curr_evals = map(lambda  x: x.fitness, population)\n",
    "    succs = sum([1 for c, p in zip(curr_evals, prev_evals) if c > p])\n",
    "    stats[0] += succs\n",
    "    stats[1] += POPULATION_SIZE\n",
    "    prev_evals = curr_evals\n",
    "    if (step + 1) % 10 == 0: # adjust mutation\n",
    "        if stats[0] / stats[1] < 1 / 5:\n",
    "            σ /= 1.1\n",
    "        elif stats[0] / stats[1] > 1 / 5:\n",
    "            σ *= 1.1\n",
    "        stats = [0, 0]"
   ]
  },
  {
   "cell_type": "markdown",
   "metadata": {},
   "source": [
    "## Oversimplified match"
   ]
  },
  {
   "cell_type": "code",
   "execution_count": null,
   "metadata": {},
   "outputs": [],
   "source": [
    "num_iteration = 1000\n",
    "count_0 = 0\n",
    "count_1 = 0\n",
    "num_sets = 10\n",
    "\n",
    "logging.getLogger().setLevel(logging.INFO)\n",
    "\n",
    "best_evolved = population[0]\n",
    "\n",
    "strategy = (best_evolved, optimal_player)\n",
    "#strategy = (optimal_player, best_evolved)\n",
    "\n",
    "\n",
    "for _ in tqdm(range(num_iteration)):\n",
    "    nim = Nim(num_sets)\n",
    "  \n",
    "    player = 0\n",
    "    while nim:\n",
    "        ply = strategy[player].get_strategy()(nim)\n",
    "        nim.nimming(ply)\n",
    "        player = 1 - player\n",
    "        \n",
    "    if player == 0:\n",
    "        count_0 += 1\n",
    "    else:\n",
    "        count_1 += 1\n",
    "\n",
    "print(f\"Number games won player_0: {count_0}, Percentage: {round(count_0 / num_iteration * 100)}%\")\n",
    "print(f\"Number games won player_1: {count_1}, Percentage: {round(count_1 / num_iteration * 100)}%\")\n"
   ]
  }
 ],
 "metadata": {
  "kernelspec": {
   "display_name": "Python 3.10.7 ('ci22-dPIXJ0_o-py3.10')",
   "language": "python",
   "name": "python3"
  },
  "language_info": {
   "codemirror_mode": {
    "name": "ipython",
    "version": 3
   },
   "file_extension": ".py",
   "mimetype": "text/x-python",
   "name": "python",
   "nbconvert_exporter": "python",
   "pygments_lexer": "ipython3",
   "version": "3.12.0"
  },
  "vscode": {
   "interpreter": {
    "hash": "10197e8e2f2aa67e2c349105091c77f4cd384fce4877865f002d9ec653f96bc0"
   }
  }
 },
 "nbformat": 4,
 "nbformat_minor": 2
}
