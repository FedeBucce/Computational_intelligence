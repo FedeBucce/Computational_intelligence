{
 "cells": [
  {
   "cell_type": "code",
   "execution_count": 129,
   "metadata": {},
   "outputs": [],
   "source": [
    "from random import random, choice, randint\n",
    "from functools import reduce\n",
    "from collections import namedtuple\n",
    "from copy import copy\n",
    "\n",
    "import numpy as np\n",
    "\n",
    "def fitness1(state, sets):\n",
    "    cost = sum(state)\n",
    "    valid = np.all(\n",
    "        reduce(\n",
    "            np.logical_or,\n",
    "            [sets[i] for i, t in enumerate(state) if t],\n",
    "            np.array([False for _ in range(len(sets[0]))]),\n",
    "        )\n",
    "    )\n",
    "    return valid, -cost\n",
    "\n",
    "def fitness2(state, sets):\n",
    "    cost = sum(state)\n",
    "    valid = np.sum(\n",
    "        reduce(\n",
    "            np.logical_or,\n",
    "            [sets[i] for i, t in enumerate(state) if t],\n",
    "            np.array([False for _ in range(len(sets[0]))]),\n",
    "        )\n",
    "    )\n",
    "    return valid, -cost\n",
    "\n",
    "def tweak(state, sets, lambda_value):\n",
    "    best_state = state\n",
    "    \n",
    "    for _ in range(lambda_value):\n",
    "        new_state = copy(state)\n",
    "        index = randint(0, len(sets[0]) - 1)\n",
    "        new_state[index] = not new_state[index]\n",
    "        \n",
    "        if fitness1(new_state, sets) >= fitness1(state, sets):\n",
    "            best_state = new_state\n",
    "\n",
    "    return best_state"
   ]
  },
  {
   "cell_type": "code",
   "execution_count": 130,
   "metadata": {},
   "outputs": [
    {
     "name": "stdout",
     "output_type": "stream",
     "text": [
      "num_points: 100, density: 0.3, taken sets: 0\n",
      "num_points: 100, density: 0.7, taken sets: 0\n",
      "num_points: 1000, density: 0.3, taken sets: 0\n"
     ]
    },
    {
     "ename": "KeyboardInterrupt",
     "evalue": "",
     "output_type": "error",
     "traceback": [
      "\u001b[1;31m---------------------------------------------------------------------------\u001b[0m",
      "\u001b[1;31mKeyboardInterrupt\u001b[0m                         Traceback (most recent call last)",
      "\u001b[1;32mc:\\Users\\fedeb\\OneDrive\\Desktop\\Computational_intelligence\\Halloween_Challenge.ipynb Cell 2\u001b[0m line \u001b[0;36m1\n\u001b[0;32m     <a href='vscode-notebook-cell:/c%3A/Users/fedeb/OneDrive/Desktop/Computational_intelligence/Halloween_Challenge.ipynb#X12sZmlsZQ%3D%3D?line=11'>12</a>\u001b[0m lambda_value \u001b[39m=\u001b[39m \u001b[39m5\u001b[39m\n\u001b[0;32m     <a href='vscode-notebook-cell:/c%3A/Users/fedeb/OneDrive/Desktop/Computational_intelligence/Halloween_Challenge.ipynb#X12sZmlsZQ%3D%3D?line=13'>14</a>\u001b[0m \u001b[39mfor\u001b[39;00m step \u001b[39min\u001b[39;00m \u001b[39mrange\u001b[39m(\u001b[39m10_000\u001b[39m):\n\u001b[1;32m---> <a href='vscode-notebook-cell:/c%3A/Users/fedeb/OneDrive/Desktop/Computational_intelligence/Halloween_Challenge.ipynb#X12sZmlsZQ%3D%3D?line=14'>15</a>\u001b[0m     new_state \u001b[39m=\u001b[39m tweak(current_state, SETS, lambda_value)\n\u001b[0;32m     <a href='vscode-notebook-cell:/c%3A/Users/fedeb/OneDrive/Desktop/Computational_intelligence/Halloween_Challenge.ipynb#X12sZmlsZQ%3D%3D?line=15'>16</a>\u001b[0m     \u001b[39mif\u001b[39;00m fitness1(new_state, SETS) \u001b[39m>\u001b[39m\u001b[39m=\u001b[39m fitness1(current_state, SETS):\n\u001b[0;32m     <a href='vscode-notebook-cell:/c%3A/Users/fedeb/OneDrive/Desktop/Computational_intelligence/Halloween_Challenge.ipynb#X12sZmlsZQ%3D%3D?line=16'>17</a>\u001b[0m         current_state \u001b[39m=\u001b[39m new_state\n",
      "\u001b[1;32mc:\\Users\\fedeb\\OneDrive\\Desktop\\Computational_intelligence\\Halloween_Challenge.ipynb Cell 2\u001b[0m line \u001b[0;36m3\n\u001b[0;32m     <a href='vscode-notebook-cell:/c%3A/Users/fedeb/OneDrive/Desktop/Computational_intelligence/Halloween_Challenge.ipynb#X12sZmlsZQ%3D%3D?line=34'>35</a>\u001b[0m     index \u001b[39m=\u001b[39m randint(\u001b[39m0\u001b[39m, \u001b[39mlen\u001b[39m(sets[\u001b[39m0\u001b[39m]) \u001b[39m-\u001b[39m \u001b[39m1\u001b[39m)\n\u001b[0;32m     <a href='vscode-notebook-cell:/c%3A/Users/fedeb/OneDrive/Desktop/Computational_intelligence/Halloween_Challenge.ipynb#X12sZmlsZQ%3D%3D?line=35'>36</a>\u001b[0m     new_state[index] \u001b[39m=\u001b[39m \u001b[39mnot\u001b[39;00m new_state[index]\n\u001b[1;32m---> <a href='vscode-notebook-cell:/c%3A/Users/fedeb/OneDrive/Desktop/Computational_intelligence/Halloween_Challenge.ipynb#X12sZmlsZQ%3D%3D?line=37'>38</a>\u001b[0m     \u001b[39mif\u001b[39;00m fitness1(new_state, sets) \u001b[39m>\u001b[39m\u001b[39m=\u001b[39m fitness1(state, sets):\n\u001b[0;32m     <a href='vscode-notebook-cell:/c%3A/Users/fedeb/OneDrive/Desktop/Computational_intelligence/Halloween_Challenge.ipynb#X12sZmlsZQ%3D%3D?line=38'>39</a>\u001b[0m         best_state \u001b[39m=\u001b[39m new_state\n\u001b[0;32m     <a href='vscode-notebook-cell:/c%3A/Users/fedeb/OneDrive/Desktop/Computational_intelligence/Halloween_Challenge.ipynb#X12sZmlsZQ%3D%3D?line=40'>41</a>\u001b[0m \u001b[39mreturn\u001b[39;00m best_state\n",
      "\u001b[1;32mc:\\Users\\fedeb\\OneDrive\\Desktop\\Computational_intelligence\\Halloween_Challenge.ipynb Cell 2\u001b[0m line \u001b[0;36m1\n\u001b[0;32m      <a href='vscode-notebook-cell:/c%3A/Users/fedeb/OneDrive/Desktop/Computational_intelligence/Halloween_Challenge.ipynb#X12sZmlsZQ%3D%3D?line=7'>8</a>\u001b[0m \u001b[39mdef\u001b[39;00m \u001b[39mfitness1\u001b[39m(state, sets):\n\u001b[0;32m      <a href='vscode-notebook-cell:/c%3A/Users/fedeb/OneDrive/Desktop/Computational_intelligence/Halloween_Challenge.ipynb#X12sZmlsZQ%3D%3D?line=8'>9</a>\u001b[0m     cost \u001b[39m=\u001b[39m \u001b[39msum\u001b[39m(state)\n\u001b[1;32m---> <a href='vscode-notebook-cell:/c%3A/Users/fedeb/OneDrive/Desktop/Computational_intelligence/Halloween_Challenge.ipynb#X12sZmlsZQ%3D%3D?line=9'>10</a>\u001b[0m     valid \u001b[39m=\u001b[39m np\u001b[39m.\u001b[39;49mall(\n\u001b[0;32m     <a href='vscode-notebook-cell:/c%3A/Users/fedeb/OneDrive/Desktop/Computational_intelligence/Halloween_Challenge.ipynb#X12sZmlsZQ%3D%3D?line=10'>11</a>\u001b[0m         reduce(\n\u001b[0;32m     <a href='vscode-notebook-cell:/c%3A/Users/fedeb/OneDrive/Desktop/Computational_intelligence/Halloween_Challenge.ipynb#X12sZmlsZQ%3D%3D?line=11'>12</a>\u001b[0m             np\u001b[39m.\u001b[39;49mlogical_or,\n\u001b[0;32m     <a href='vscode-notebook-cell:/c%3A/Users/fedeb/OneDrive/Desktop/Computational_intelligence/Halloween_Challenge.ipynb#X12sZmlsZQ%3D%3D?line=12'>13</a>\u001b[0m             [sets[i] \u001b[39mfor\u001b[39;49;00m i, t \u001b[39min\u001b[39;49;00m \u001b[39menumerate\u001b[39;49m(state) \u001b[39mif\u001b[39;49;00m t],\n\u001b[0;32m     <a href='vscode-notebook-cell:/c%3A/Users/fedeb/OneDrive/Desktop/Computational_intelligence/Halloween_Challenge.ipynb#X12sZmlsZQ%3D%3D?line=13'>14</a>\u001b[0m             np\u001b[39m.\u001b[39;49marray([\u001b[39mFalse\u001b[39;49;00m \u001b[39mfor\u001b[39;49;00m _ \u001b[39min\u001b[39;49;00m \u001b[39mrange\u001b[39;49m(\u001b[39mlen\u001b[39;49m(sets[\u001b[39m0\u001b[39;49m]))]),\n\u001b[0;32m     <a href='vscode-notebook-cell:/c%3A/Users/fedeb/OneDrive/Desktop/Computational_intelligence/Halloween_Challenge.ipynb#X12sZmlsZQ%3D%3D?line=14'>15</a>\u001b[0m         )\n\u001b[0;32m     <a href='vscode-notebook-cell:/c%3A/Users/fedeb/OneDrive/Desktop/Computational_intelligence/Halloween_Challenge.ipynb#X12sZmlsZQ%3D%3D?line=15'>16</a>\u001b[0m     )\n\u001b[0;32m     <a href='vscode-notebook-cell:/c%3A/Users/fedeb/OneDrive/Desktop/Computational_intelligence/Halloween_Challenge.ipynb#X12sZmlsZQ%3D%3D?line=16'>17</a>\u001b[0m     \u001b[39mreturn\u001b[39;00m valid, \u001b[39m-\u001b[39mcost\n",
      "File \u001b[1;32mc:\\Users\\fedeb\\AppData\\Local\\Programs\\Python\\Python312\\Lib\\site-packages\\numpy\\core\\fromnumeric.py:2504\u001b[0m, in \u001b[0;36mall\u001b[1;34m(a, axis, out, keepdims, where)\u001b[0m\n\u001b[0;32m   2421\u001b[0m \u001b[39m@array_function_dispatch\u001b[39m(_all_dispatcher)\n\u001b[0;32m   2422\u001b[0m \u001b[39mdef\u001b[39;00m \u001b[39mall\u001b[39m(a, axis\u001b[39m=\u001b[39m\u001b[39mNone\u001b[39;00m, out\u001b[39m=\u001b[39m\u001b[39mNone\u001b[39;00m, keepdims\u001b[39m=\u001b[39mnp\u001b[39m.\u001b[39m_NoValue, \u001b[39m*\u001b[39m, where\u001b[39m=\u001b[39mnp\u001b[39m.\u001b[39m_NoValue):\n\u001b[0;32m   2423\u001b[0m \u001b[39m    \u001b[39m\u001b[39m\"\"\"\u001b[39;00m\n\u001b[0;32m   2424\u001b[0m \u001b[39m    Test whether all array elements along a given axis evaluate to True.\u001b[39;00m\n\u001b[0;32m   2425\u001b[0m \n\u001b[1;32m   (...)\u001b[0m\n\u001b[0;32m   2502\u001b[0m \n\u001b[0;32m   2503\u001b[0m \u001b[39m    \"\"\"\u001b[39;00m\n\u001b[1;32m-> 2504\u001b[0m     \u001b[39mreturn\u001b[39;00m _wrapreduction(a, np\u001b[39m.\u001b[39;49mlogical_and, \u001b[39m'\u001b[39;49m\u001b[39mall\u001b[39;49m\u001b[39m'\u001b[39;49m, axis, \u001b[39mNone\u001b[39;49;00m, out,\n\u001b[0;32m   2505\u001b[0m                           keepdims\u001b[39m=\u001b[39;49mkeepdims, where\u001b[39m=\u001b[39;49mwhere)\n",
      "File \u001b[1;32mc:\\Users\\fedeb\\AppData\\Local\\Programs\\Python\\Python312\\Lib\\site-packages\\numpy\\core\\fromnumeric.py:88\u001b[0m, in \u001b[0;36m_wrapreduction\u001b[1;34m(obj, ufunc, method, axis, dtype, out, **kwargs)\u001b[0m\n\u001b[0;32m     85\u001b[0m         \u001b[39melse\u001b[39;00m:\n\u001b[0;32m     86\u001b[0m             \u001b[39mreturn\u001b[39;00m reduction(axis\u001b[39m=\u001b[39maxis, out\u001b[39m=\u001b[39mout, \u001b[39m*\u001b[39m\u001b[39m*\u001b[39mpasskwargs)\n\u001b[1;32m---> 88\u001b[0m \u001b[39mreturn\u001b[39;00m ufunc\u001b[39m.\u001b[39;49mreduce(obj, axis, dtype, out, \u001b[39m*\u001b[39;49m\u001b[39m*\u001b[39;49mpasskwargs)\n",
      "\u001b[1;31mKeyboardInterrupt\u001b[0m: "
     ]
    }
   ],
   "source": [
    "num_points = [100, 1_000, 5_000]\n",
    "density = [.3, .7]\n",
    "\n",
    "for npoints in num_points:\n",
    "    for d in density:\n",
    "        NUM_SETS = npoints\n",
    "        SETS = tuple(np.array([random() < d for _ in range(npoints)]) for _ in range(NUM_SETS))\n",
    "        State = namedtuple('State', ['taken', 'not_taken'])\n",
    "                \n",
    "        current_state = [choice([False, False, False, False, False, False]) for _ in range(NUM_SETS)]\n",
    "        \n",
    "        lambda_value = 5\n",
    "        \n",
    "        for step in range(10_000):\n",
    "            new_state = tweak(current_state, SETS, lambda_value)\n",
    "            if fitness1(new_state, SETS) >= fitness1(current_state, SETS):\n",
    "                current_state = new_state\n",
    "        \n",
    "        num_set = sum(1 for value in current_state if value)\n",
    "        print(current_state)\n",
    "        print(f\"num_points: {npoints}, density: {d}, taken sets: {num_set}\")"
   ]
  }
 ],
 "metadata": {
  "kernelspec": {
   "display_name": "Python 3",
   "language": "python",
   "name": "python3"
  },
  "language_info": {
   "codemirror_mode": {
    "name": "ipython",
    "version": 3
   },
   "file_extension": ".py",
   "mimetype": "text/x-python",
   "name": "python",
   "nbconvert_exporter": "python",
   "pygments_lexer": "ipython3",
   "version": "3.12.0"
  }
 },
 "nbformat": 4,
 "nbformat_minor": 2
}
