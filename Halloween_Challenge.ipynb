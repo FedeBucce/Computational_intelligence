{
 "cells": [
  {
   "cell_type": "code",
   "execution_count": 148,
   "metadata": {},
   "outputs": [],
   "source": [
    "from random import random, choice, randint\n",
    "from functools import reduce\n",
    "from collections import namedtuple\n",
    "from copy import copy\n",
    "\n",
    "import numpy as np\n",
    "\n",
    "def goal_check(state, sets):\n",
    "    return np.all(reduce(\n",
    "        np.logical_or,\n",
    "        [sets[i] for i, t in enumerate(state) if t],\n",
    "        np.array([False for _ in range(len(sets[0]))]),\n",
    "    ))\n",
    "\n",
    "def fitness(state, sets):\n",
    "    cost = sum(state)\n",
    "    valid = np.sum(\n",
    "        reduce(\n",
    "            np.logical_or,\n",
    "            [sets[i] for i, t in enumerate(state) if t],\n",
    "            np.array([False for _ in range(len(sets[0]))]),\n",
    "        )\n",
    "    )\n",
    "    return valid, -cost\n",
    "\n",
    "def tweak(state, sets, lambda_value):\n",
    "    best_state = state\n",
    "    \n",
    "    for _ in range(lambda_value):\n",
    "        new_state = copy(state)\n",
    "        index = randint(0, len(sets[0]) - 1)\n",
    "        new_state[index] = not new_state[index]\n",
    "        \n",
    "        if fitness(new_state, sets) >= fitness(state, sets):\n",
    "            best_state = new_state\n",
    "\n",
    "    return best_state"
   ]
  },
  {
   "cell_type": "code",
   "execution_count": 149,
   "metadata": {},
   "outputs": [
    {
     "ename": "AttributeError",
     "evalue": "'list' object has no attribute 'taken'",
     "output_type": "error",
     "traceback": [
      "\u001b[1;31m---------------------------------------------------------------------------\u001b[0m",
      "\u001b[1;31mAttributeError\u001b[0m                            Traceback (most recent call last)",
      "\u001b[1;32mc:\\Users\\fedeb\\OneDrive\\Desktop\\Computational_intelligence\\Halloween_Challenge.ipynb Cell 2\u001b[0m line \u001b[0;36m1\n\u001b[0;32m     <a href='vscode-notebook-cell:/c%3A/Users/fedeb/OneDrive/Desktop/Computational_intelligence/Halloween_Challenge.ipynb#X12sZmlsZQ%3D%3D?line=15'>16</a>\u001b[0m     \u001b[39mif\u001b[39;00m fitness(new_state, SETS) \u001b[39m>\u001b[39m\u001b[39m=\u001b[39m fitness(current_state, SETS):\n\u001b[0;32m     <a href='vscode-notebook-cell:/c%3A/Users/fedeb/OneDrive/Desktop/Computational_intelligence/Halloween_Challenge.ipynb#X12sZmlsZQ%3D%3D?line=16'>17</a>\u001b[0m         current_state \u001b[39m=\u001b[39m new_state\n\u001b[1;32m---> <a href='vscode-notebook-cell:/c%3A/Users/fedeb/OneDrive/Desktop/Computational_intelligence/Halloween_Challenge.ipynb#X12sZmlsZQ%3D%3D?line=18'>19</a>\u001b[0m goal_check(current_state, SETS, NUM_SETS)\n\u001b[0;32m     <a href='vscode-notebook-cell:/c%3A/Users/fedeb/OneDrive/Desktop/Computational_intelligence/Halloween_Challenge.ipynb#X12sZmlsZQ%3D%3D?line=19'>20</a>\u001b[0m num_set \u001b[39m=\u001b[39m \u001b[39msum\u001b[39m(\u001b[39m1\u001b[39m \u001b[39mfor\u001b[39;00m value \u001b[39min\u001b[39;00m current_state \u001b[39mif\u001b[39;00m value)\n\u001b[0;32m     <a href='vscode-notebook-cell:/c%3A/Users/fedeb/OneDrive/Desktop/Computational_intelligence/Halloween_Challenge.ipynb#X12sZmlsZQ%3D%3D?line=20'>21</a>\u001b[0m \u001b[39mprint\u001b[39m(\u001b[39mf\u001b[39m\u001b[39m\"\u001b[39m\u001b[39mnum_points: \u001b[39m\u001b[39m{\u001b[39;00mnpoints\u001b[39m}\u001b[39;00m\u001b[39m, density: \u001b[39m\u001b[39m{\u001b[39;00md\u001b[39m}\u001b[39;00m\u001b[39m, taken sets: \u001b[39m\u001b[39m{\u001b[39;00mnum_set\u001b[39m}\u001b[39;00m\u001b[39m\"\u001b[39m)\n",
      "\u001b[1;32mc:\\Users\\fedeb\\OneDrive\\Desktop\\Computational_intelligence\\Halloween_Challenge.ipynb Cell 2\u001b[0m line \u001b[0;36m1\n\u001b[0;32m      <a href='vscode-notebook-cell:/c%3A/Users/fedeb/OneDrive/Desktop/Computational_intelligence/Halloween_Challenge.ipynb#X12sZmlsZQ%3D%3D?line=7'>8</a>\u001b[0m \u001b[39mdef\u001b[39;00m \u001b[39mgoal_check\u001b[39m(state, sets, problem_size):\n\u001b[0;32m      <a href='vscode-notebook-cell:/c%3A/Users/fedeb/OneDrive/Desktop/Computational_intelligence/Halloween_Challenge.ipynb#X12sZmlsZQ%3D%3D?line=8'>9</a>\u001b[0m     \u001b[39mreturn\u001b[39;00m np\u001b[39m.\u001b[39mall(reduce(\n\u001b[0;32m     <a href='vscode-notebook-cell:/c%3A/Users/fedeb/OneDrive/Desktop/Computational_intelligence/Halloween_Challenge.ipynb#X12sZmlsZQ%3D%3D?line=9'>10</a>\u001b[0m         np\u001b[39m.\u001b[39mlogical_or,\n\u001b[1;32m---> <a href='vscode-notebook-cell:/c%3A/Users/fedeb/OneDrive/Desktop/Computational_intelligence/Halloween_Challenge.ipynb#X12sZmlsZQ%3D%3D?line=10'>11</a>\u001b[0m         [sets[i] \u001b[39mfor\u001b[39;00m i \u001b[39min\u001b[39;00m state\u001b[39m.\u001b[39;49mtaken],\n\u001b[0;32m     <a href='vscode-notebook-cell:/c%3A/Users/fedeb/OneDrive/Desktop/Computational_intelligence/Halloween_Challenge.ipynb#X12sZmlsZQ%3D%3D?line=11'>12</a>\u001b[0m         np\u001b[39m.\u001b[39marray([\u001b[39mFalse\u001b[39;00m \u001b[39mfor\u001b[39;00m _ \u001b[39min\u001b[39;00m \u001b[39mrange\u001b[39m(problem_size)]),\n\u001b[0;32m     <a href='vscode-notebook-cell:/c%3A/Users/fedeb/OneDrive/Desktop/Computational_intelligence/Halloween_Challenge.ipynb#X12sZmlsZQ%3D%3D?line=12'>13</a>\u001b[0m     ))\n",
      "\u001b[1;31mAttributeError\u001b[0m: 'list' object has no attribute 'taken'"
     ]
    }
   ],
   "source": [
    "num_points = [100, 1_000, 5_000]\n",
    "density = [.3, .7]\n",
    "\n",
    "for npoints in num_points:\n",
    "    for d in density:\n",
    "        NUM_SETS = npoints\n",
    "        SETS = tuple(np.array([random() < d for _ in range(npoints)]) for _ in range(NUM_SETS))\n",
    "        State = namedtuple('State', ['taken', 'not_taken'])\n",
    "                \n",
    "        current_state = [choice([False, False, False, False, False, False]) for _ in range(NUM_SETS)]\n",
    "        \n",
    "        lambda_value = 3\n",
    "        \n",
    "        for step in range(10_000):\n",
    "            new_state = tweak(current_state, SETS, lambda_value)\n",
    "            if fitness(new_state, SETS) >= fitness(current_state, SETS):\n",
    "                current_state = new_state\n",
    "        \n",
    "        goal_check(current_state, SETS)\n",
    "        num_set = sum(1 for value in current_state if value)\n",
    "        print(f\"num_points: {npoints}, density: {d}, taken sets: {num_set}\")"
   ]
  }
 ],
 "metadata": {
  "kernelspec": {
   "display_name": "Python 3",
   "language": "python",
   "name": "python3"
  },
  "language_info": {
   "codemirror_mode": {
    "name": "ipython",
    "version": 3
   },
   "file_extension": ".py",
   "mimetype": "text/x-python",
   "name": "python",
   "nbconvert_exporter": "python",
   "pygments_lexer": "ipython3",
   "version": "3.12.0"
  }
 },
 "nbformat": 4,
 "nbformat_minor": 2
}
