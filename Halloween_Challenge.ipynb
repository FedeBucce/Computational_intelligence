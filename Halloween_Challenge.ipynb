{
 "cells": [
  {
   "cell_type": "code",
   "execution_count": 143,
   "metadata": {},
   "outputs": [],
   "source": [
    "from random import random, choice, randint\n",
    "from functools import reduce\n",
    "from collections import namedtuple\n",
    "from copy import copy\n",
    "\n",
    "import numpy as np\n",
    "\n",
    "def fitness(state, sets):\n",
    "    cost = sum(state)\n",
    "    valid = np.sum(\n",
    "        reduce(\n",
    "            np.logical_or,\n",
    "            [sets[i] for i, t in enumerate(state) if t],\n",
    "            np.array([False for _ in range(len(sets[0]))]),\n",
    "        )\n",
    "    )\n",
    "    return valid, -cost\n",
    "\n",
    "def tweak(state, sets, lambda_value):\n",
    "    best_state = state\n",
    "    \n",
    "    for _ in range(lambda_value):\n",
    "        new_state = copy(state)\n",
    "        index = randint(0, len(sets[0]) - 1)\n",
    "        new_state[index] = not new_state[index]\n",
    "        \n",
    "        if fitness(new_state, sets) >= fitness(state, sets):\n",
    "            best_state = new_state\n",
    "\n",
    "    return best_state"
   ]
  },
  {
   "cell_type": "code",
   "execution_count": 144,
   "metadata": {},
   "outputs": [
    {
     "name": "stdout",
     "output_type": "stream",
     "text": [
      "num_points: 100, density: 0.3, taken sets: 7\n",
      "num_points: 100, density: 0.7, taken sets: 4\n",
      "num_points: 1000, density: 0.3, taken sets: 15\n",
      "num_points: 1000, density: 0.7, taken sets: 5\n",
      "num_points: 5000, density: 0.3, taken sets: 20\n",
      "num_points: 5000, density: 0.7, taken sets: 7\n"
     ]
    }
   ],
   "source": [
    "num_points = [100, 1_000, 5_000]\n",
    "density = [.3, .7]\n",
    "\n",
    "for npoints in num_points:\n",
    "    for d in density:\n",
    "        NUM_SETS = npoints\n",
    "        SETS = tuple(np.array([random() < d for _ in range(npoints)]) for _ in range(NUM_SETS))\n",
    "        State = namedtuple('State', ['taken', 'not_taken'])\n",
    "                \n",
    "        current_state = [choice([False, False, False, False, False, False]) for _ in range(NUM_SETS)]\n",
    "        \n",
    "        lambda_value = 3\n",
    "        \n",
    "        for step in range(10_000):\n",
    "            new_state = tweak(current_state, SETS, lambda_value)\n",
    "            if fitness(new_state, SETS) >= fitness(current_state, SETS):\n",
    "                current_state = new_state\n",
    "        \n",
    "        num_set = sum(1 for value in current_state if value)\n",
    "        print(f\"num_points: {npoints}, density: {d}, taken sets: {num_set}\")"
   ]
  }
 ],
 "metadata": {
  "kernelspec": {
   "display_name": "Python 3",
   "language": "python",
   "name": "python3"
  },
  "language_info": {
   "codemirror_mode": {
    "name": "ipython",
    "version": 3
   },
   "file_extension": ".py",
   "mimetype": "text/x-python",
   "name": "python",
   "nbconvert_exporter": "python",
   "pygments_lexer": "ipython3",
   "version": "3.12.0"
  }
 },
 "nbformat": 4,
 "nbformat_minor": 2
}
